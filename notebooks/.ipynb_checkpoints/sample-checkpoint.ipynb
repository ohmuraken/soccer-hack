{
 "cells": [
  {
   "cell_type": "code",
   "execution_count": 1,
   "metadata": {
    "collapsed": true
   },
   "outputs": [],
   "source": [
    "import pandas as pd\n",
    "import numpy as np\n",
    "import matplotlib.pyplot as plt\n",
    "import seaborn as sns\n",
    "%matplotlib inline"
   ]
  },
  {
   "cell_type": "code",
   "execution_count": 14,
   "metadata": {
    "collapsed": false,
    "scrolled": true
   },
   "outputs": [
    {
     "name": "stdout",
     "output_type": "stream",
     "text": [
      "(19, 65)\n",
      "(19, 65)\n"
     ]
    }
   ],
   "source": [
    "premier15 =pd.read_csv(\"../data/england/premier_2015_2016.csv\")\n",
    "ManUnitedHomeDf = premier15[premier15[\"HomeTeam\"]==\"Man United\"]\n",
    "ManUnitedAwayDf = premier15[premier15[\"AwayTeam\"]==\"Man United\"]\n",
    "print(ManUnitedHomeDf.shape)\n",
    "print(ManUnitedAwayDf.shape)"
   ]
  },
  {
   "cell_type": "code",
   "execution_count": 19,
   "metadata": {
    "collapsed": false,
    "scrolled": true
   },
   "outputs": [
    {
     "name": "stdout",
     "output_type": "stream",
     "text": [
      "(12, 65)\n",
      "(7, 65)\n"
     ]
    }
   ],
   "source": [
    "print(ManUnitedHomeDf[ManUnitedHomeDf[\"FTR\"]==\"H\"].shape)\n",
    "print(ManUnitedAwayDf[ManUnitedAwayDf[\"FTR\"]==\"A\"].shape)"
   ]
  },
  {
   "cell_type": "code",
   "execution_count": null,
   "metadata": {
    "collapsed": true
   },
   "outputs": [],
   "source": []
  }
 ],
 "metadata": {
  "kernelspec": {
   "display_name": "Python 3",
   "language": "python",
   "name": "python3"
  },
  "language_info": {
   "codemirror_mode": {
    "name": "ipython",
    "version": 3
   },
   "file_extension": ".py",
   "mimetype": "text/x-python",
   "name": "python",
   "nbconvert_exporter": "python",
   "pygments_lexer": "ipython3",
   "version": "3.5.2"
  }
 },
 "nbformat": 4,
 "nbformat_minor": 1
}
